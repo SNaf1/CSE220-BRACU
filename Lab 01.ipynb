{
  "cells": [
    {
      "cell_type": "code",
      "execution_count": null,
      "metadata": {
        "colab": {
          "base_uri": "https://localhost:8080/"
        },
        "id": "c_8XxXM7EeT9",
        "outputId": "984f9d81-5ef1-4f5c-c821-81e914694c48"
      },
      "outputs": [
        {
          "name": "stdout",
          "output_type": "stream",
          "text": [
            "[40, 50, 60, 0, 0, 0]\n"
          ]
        }
      ],
      "source": [
        "#Task1\n",
        "def shiftLeft(arr, k):\n",
        "\n",
        "    for i in range(k):\n",
        "        for j in range(1, len(arr)):\n",
        "            arr[j-1] = arr[j]\n",
        "        arr[len(arr) - 1] = 0\n",
        "        \n",
        "    return arr\n",
        "\n",
        "source = [10,20,30,40,50,60]\n",
        "shiftLeft(source, 3)\n",
        "print(source)"
      ]
    },
    {
      "cell_type": "code",
      "execution_count": 76,
      "metadata": {
        "colab": {
          "base_uri": "https://localhost:8080/"
        },
        "id": "c1UTxrs176Zg",
        "outputId": "de5bd39f-08db-4916-e184-33774c4b0315"
      },
      "outputs": [
        {
          "name": "stdout",
          "output_type": "stream",
          "text": [
            "[40, 50, 60, 10, 20, 30]\n"
          ]
        }
      ],
      "source": [
        "#Task2\n",
        "def rotateLeft(arr, k):\n",
        "    for i in range(k):\n",
        "        temp = arr[0]\n",
        "        for j in range(1, len(arr)):\n",
        "            arr[j-1] = arr[j]\n",
        "        arr[len(arr) - 1] = temp\n",
        "    \n",
        "    return arr\n",
        "\n",
        "source=[10,20,30,40,50,60]\n",
        "rotateLeft(source,3)\n",
        "print(source)"
      ]
    },
    {
      "cell_type": "code",
      "execution_count": 5,
      "metadata": {
        "id": "_KYdTCYG76Zg",
        "outputId": "5e818ab2-91ba-4dd4-b873-a4e642562cd9"
      },
      "outputs": [
        {
          "name": "stdout",
          "output_type": "stream",
          "text": [
            "[0, 0, 0, 10, 20, 30]\n"
          ]
        }
      ],
      "source": [
        "#Task3\n",
        "def shiftRight(arr, k):\n",
        "    while k > 0:\n",
        "        for i in range(len(arr)-1, 0, -1):\n",
        "            arr[i] = arr[i-1]\n",
        "        arr[0] = 0\n",
        "        k -= 1\n",
        "    return arr\n",
        "\n",
        "source=[10,20,30,40,50,60]\n",
        "shiftRight(source,3)\n",
        "print(source)"
      ]
    },
    {
      "cell_type": "code",
      "execution_count": 6,
      "metadata": {
        "id": "FQKTz_p276Zh",
        "outputId": "503a5e66-527d-4da1-cc2e-0dbc3923cce4"
      },
      "outputs": [
        {
          "name": "stdout",
          "output_type": "stream",
          "text": [
            "[40, 50, 60, 10, 20, 30]\n"
          ]
        }
      ],
      "source": [
        "#Task4\n",
        "def rotateRight(arr, k):\n",
        "    while k > 0:\n",
        "        temp = arr[len(arr)-1]\n",
        "        for i in range(len(arr)-1, 0, -1):\n",
        "            arr[i] = arr[i-1]\n",
        "        arr[0] = temp\n",
        "        k -= 1\n",
        "    return arr\n",
        "\n",
        "source=[10,20,30,40,50,60]\n",
        "rotateRight(source,3)\n",
        "print(source)"
      ]
    },
    {
      "cell_type": "code",
      "execution_count": null,
      "metadata": {
        "colab": {
          "base_uri": "https://localhost:8080/"
        },
        "id": "HnEZ9UXc76Zh",
        "outputId": "f3c33066-b39c-41e0-e139-fde1afd7f3aa"
      },
      "outputs": [
        {
          "name": "stdout",
          "output_type": "stream",
          "text": [
            "[10, 20, 40, 50, 0, 0, 0]\n"
          ]
        }
      ],
      "source": [
        "#Task5\n",
        "def remove(arr, size, index):\n",
        "    if size == 0:\n",
        "        print(\"invalid\")\n",
        "    if index < 0 or index >= len(arr):\n",
        "        print(\"invalid\")\n",
        "    if index > size:\n",
        "        print(\"invalid\")\n",
        "\n",
        "    for i in range(index, size):\n",
        "        arr[i] = arr[i+1]\n",
        "    arr[size-1] = 0\n",
        "    size -= 1\n",
        "    return arr\n",
        "\n",
        "source=[10,20,30,40,50,0,0]\n",
        "remove(source,5,2)\n",
        "print(source)"
      ]
    },
    {
      "cell_type": "code",
      "execution_count": null,
      "metadata": {
        "colab": {
          "base_uri": "https://localhost:8080/"
        },
        "id": "jHW6r6ba76Zh",
        "outputId": "06796213-68bd-44f7-f8f8-244983786d9c"
      },
      "outputs": [
        {
          "name": "stdout",
          "output_type": "stream",
          "text": [
            "[10, 30, 50, 0, 0, 0, 0, 0, 0]\n"
          ]
        }
      ],
      "source": [
        "#Task6\n",
        "def removeAll(arr, size, elem):\n",
        "    i = 0\n",
        "    while i < size:\n",
        "        if arr[i] == elem:\n",
        "            for j in range(i+1, size):\n",
        "                    arr[j-1] = arr[j]\n",
        "            arr[size-1] = 0\n",
        "            size-= 1\n",
        "            \n",
        "        else:\n",
        "            i+=1\n",
        "\n",
        "source=[10,2,30,2,50,2,2,0,0]\n",
        "removeAll(source,8,2)\n",
        "print(source)"
      ]
    },
    {
      "cell_type": "code",
      "execution_count": null,
      "metadata": {
        "id": "GIHo9Cl476Zi",
        "outputId": "e3483d89-b12e-4498-8054-8200ff324db6"
      },
      "outputs": [
        {
          "name": "stdout",
          "output_type": "stream",
          "text": [
            "true\n"
          ]
        }
      ],
      "source": [
        "#Task7\n",
        "def Splitting_array(arr):\n",
        "    arr1 = [0] * len(arr)\n",
        "    arr2 = [0] * (len(arr) - 1)\n",
        "    sum1 = 0\n",
        "    sum2 = 0\n",
        "\n",
        "    arr_length = len(arr)\n",
        "    flag = None\n",
        "    \n",
        "    for i in range(arr_length):\n",
        "        arr1 = arr[0:i+1]\n",
        "        arr2 = arr[i + 1:(arr_length)]\n",
        "\n",
        "        for i in arr1:\n",
        "            sum1 += i\n",
        "        for i in arr2:\n",
        "            sum2 += i\n",
        "          \n",
        "        if sum1 == sum2:\n",
        "            flag = True\n",
        "            break\n",
        "        else:\n",
        "            flag = False\n",
        "            sum1 = 0\n",
        "            sum2 = 0\n",
        "\n",
        "    if flag == True:\n",
        "        print(\"true\")\n",
        "    else:\n",
        "        print(\"false\")\n",
        "\n",
        "array = [1, 1, 1, 2, 1]\n",
        "Splitting_array(array)"
      ]
    },
    {
      "cell_type": "code",
      "execution_count": 3,
      "metadata": {
        "id": "eOwAI0qu76Zi",
        "outputId": "82d78a6c-bd0e-4f4b-b804-f93738b369aa"
      },
      "outputs": [
        {
          "name": "stdout",
          "output_type": "stream",
          "text": [
            "[0, 0, 1, 0, 2, 1, 3, 2, 1]\n"
          ]
        }
      ],
      "source": [
        "#Task8\n",
        "def array_series(n):\n",
        "    arr1 = [0] * (n*n)\n",
        "\n",
        "    for i in range(1, n+1):\n",
        "        for j in range(1, i+1):\n",
        "            arr1[(i*n)-j] = j    \n",
        "\n",
        "    return arr1\n",
        "\n",
        "\n",
        "n = int(input(\"Enter an integer: \"))\n",
        "ans = array_series(n)\n",
        "print(ans)"
      ]
    },
    {
      "cell_type": "code",
      "execution_count": null,
      "metadata": {
        "id": "PpP9F8Uw76Zi",
        "outputId": "143e687e-7e3b-4a98-e560-e08dd4185cf1"
      },
      "outputs": [
        {
          "name": "stdout",
          "output_type": "stream",
          "text": [
            "4\n"
          ]
        }
      ],
      "source": [
        "#Task9\n",
        "def max_bunch_count(arr):\n",
        "    count = 1\n",
        "    current_count = 1\n",
        "\n",
        "    for i in range(len(arr)-1):\n",
        "        if arr[i] == arr[i+1]:\n",
        "            current_count += 1\n",
        "        \n",
        "        else:\n",
        "            current_count = 1\n",
        "\n",
        "        if current_count > count:\n",
        "            count = current_count\n",
        "    \n",
        "\n",
        "    print(count)\n",
        "\n",
        "new_array = [1,1,2, 2, 1, 1,1,1]\n",
        "Max_Bunch_Count(new_array)"
      ]
    },
    {
      "cell_type": "code",
      "execution_count": null,
      "metadata": {
        "colab": {
          "base_uri": "https://localhost:8080/"
        },
        "id": "7qIAFSf876Zj",
        "outputId": "0abcdaa1-de40-46f3-917b-8c92eb3f643c"
      },
      "outputs": [
        {
          "name": "stdout",
          "output_type": "stream",
          "text": [
            "[2, 3, 4, 0, 0, 1, 0, 0, 1, 0, 0]\n",
            "False\n"
          ]
        }
      ],
      "source": [
        "#Task10\n",
        "def repetition(arr):\n",
        "    count = 0\n",
        "    count1 = 0\n",
        "    arr1 = [0] * len(arr)\n",
        "    arr2 = [0] * len(arr)\n",
        "    arr3 = [0] * len(arr)\n",
        "    arr4 = [0] * len(arr)\n",
        "    \n",
        "\n",
        "    for i in range(len(arr)):\n",
        "        first_val = arr[i]\n",
        "        if first_val not in arr2:\n",
        "            arr2[i] = first_val\n",
        "            count = 0\n",
        "            for j in range(len(arr)):\n",
        "                if arr[j] == first_val:\n",
        "                    count += 1\n",
        "                    arr1[i] = count\n",
        "                    arr2[i] = arr[i]\n",
        "\n",
        "    print(arr1)\n",
        "\n",
        "    for i in range(len(arr1)):\n",
        "        if arr1[i]>1:\n",
        "            first_val = arr1[i]\n",
        "            if first_val not in arr4:\n",
        "                arr4[i] = first_val\n",
        "                count = 0\n",
        "                for j in range(len(arr1)):\n",
        "                    if arr1[j] == first_val:\n",
        "                        count += 1\n",
        "                        arr3[i] = count\n",
        "                        arr4[i] = arr1[i]\n",
        "    \n",
        "\n",
        "    for i in arr3:\n",
        "        if i >= 2:\n",
        "            count1 += 1\n",
        "\n",
        "    if count1 > 0:\n",
        "        print(\"True\")\n",
        "    else:\n",
        "        print(\"False\")\n",
        "\n",
        "new_array = [3,4,6,3,4,7,4,6,8,6,6]\n",
        "repetition(new_array)"
      ]
    },
    {
      "cell_type": "code",
      "execution_count": 9,
      "metadata": {
        "colab": {
          "base_uri": "https://localhost:8080/"
        },
        "id": "haxg4DCBHhtz",
        "outputId": "68cfdcfa-19c3-4272-dcd4-d6cf90158cbc"
      },
      "outputs": [
        {
          "name": "stdout",
          "output_type": "stream",
          "text": [
            "True\n"
          ]
        }
      ],
      "source": [
        "#Task10\n",
        "def repetition(arr):\n",
        "    flag = False\n",
        "    count = 0\n",
        "    arr1 = [0] * len(arr)\n",
        "    arr2 = [0] * len(arr)\n",
        "\n",
        "\n",
        "    for i in range(len(arr)):\n",
        "        first_val = arr[i]\n",
        "        if first_val not in arr2:\n",
        "            arr2[i] = first_val\n",
        "            count = 0\n",
        "            for j in range(len(arr)):\n",
        "                if arr[j] == first_val:\n",
        "                    count += 1\n",
        "                    arr1[i] = count\n",
        "                    arr2[i] = arr[i]\n",
        "\n",
        "\n",
        "    for i in range(len(arr1)-1):\n",
        "        for j in range(i+1, len(arr1)):\n",
        "            if arr1[i] == arr1[j] and arr1[i] >1:\n",
        "                flag = True\n",
        "    \n",
        "    print(flag)\n",
        "\n",
        "new_array = [4,5,6,6,4,3,6,4]\n",
        "repetition(new_array)"
      ]
    },
    {
      "cell_type": "code",
      "execution_count": 75,
      "metadata": {
        "colab": {
          "base_uri": "https://localhost:8080/"
        },
        "id": "8EzzJes6BhQG",
        "outputId": "8909bbfd-3959-4b82-e93a-cc645f5b7b8b"
      },
      "outputs": [
        {
          "name": "stdout",
          "output_type": "stream",
          "text": [
            "[10, 30, 50, 0, 0, 0, 0, 0, 0]\n"
          ]
        }
      ],
      "source": [
        "#Task6 (Bonus)\n",
        "def removeAll(arr, size, elem):\n",
        "    itr = 0\n",
        "    next_pos = 0\n",
        "    while itr < (len(arr)):\n",
        "        if arr[itr] == elem:\n",
        "            itr += 1\n",
        "\n",
        "        else:\n",
        "            arr[next_pos] = arr[itr]\n",
        "            itr += 1\n",
        "            next_pos += 1\n",
        "\n",
        "        if itr == (size):\n",
        "            for i in range(next_pos, len(arr)):\n",
        "                    arr[i] = 0\n",
        "                    \n",
        "            break\n",
        "\n",
        "\n",
        "source=[10,2,30,2,50,2,2,0,0]\n",
        "removeAll(source,7,2)\n",
        "print(source)\n"
      ]
    }
  ],
  "metadata": {
    "colab": {
      "collapsed_sections": [],
      "provenance": []
    },
    "kernelspec": {
      "display_name": "Python 3.8.4 32-bit",
      "language": "python",
      "name": "python3"
    },
    "language_info": {
      "codemirror_mode": {
        "name": "ipython",
        "version": 3
      },
      "file_extension": ".py",
      "mimetype": "text/x-python",
      "name": "python",
      "nbconvert_exporter": "python",
      "pygments_lexer": "ipython3",
      "version": "3.8.4"
    },
    "orig_nbformat": 4,
    "vscode": {
      "interpreter": {
        "hash": "45037c9fa964e33746a67959e611b1255904e81b18931a74a47f598c93f55abd"
      }
    }
  },
  "nbformat": 4,
  "nbformat_minor": 0
}
