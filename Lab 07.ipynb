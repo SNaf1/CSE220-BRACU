{
  "cells": [
    {
      "cell_type": "code",
      "execution_count": null,
      "metadata": {
        "colab": {
          "base_uri": "https://localhost:8080/"
        },
        "id": "igJi7QB9mL9x",
        "outputId": "508cbb84-1335-4cd9-dc62-bb250b69130a"
      },
      "outputs": [
        {
          "name": "stdout",
          "output_type": "stream",
          "text": [
            "True\n",
            "[-3, 0, 2, 3, 5, 5]\n"
          ]
        }
      ],
      "source": [
        "class KeyIndex:\n",
        "    \n",
        "    def __init__(self, arr1):\n",
        "        self.a = arr1\n",
        "        max_num = arr1[0]\n",
        "        min_num = 0\n",
        "        for num in self.a:\n",
        "            if max_num < num:\n",
        "                max_num = num\n",
        "\n",
        "            if min_num > num:\n",
        "                min_num = num\n",
        "            \n",
        "        \n",
        "        self.slice1 = min_num * -1\n",
        "        for i in range(0, len(self.a)):\n",
        "            self.a[i] = self.a[i] + self.slice1        \n",
        "\n",
        "        \n",
        "        self.arr_k = [0]* (max_num+self.slice1+1)\n",
        "\n",
        "        for i in self.a:\n",
        "            self.arr_k[i] += 1\n",
        "\n",
        "\n",
        "    def search(self, val):\n",
        "        val += self.slice1\n",
        "        if val >= len(self.arr_k) or val < 0:\n",
        "            return \"size out of index\"\n",
        "        else:\n",
        "            if self.arr_k[val] != 0:\n",
        "                return True\n",
        "            else:\n",
        "                return False\n",
        "\n",
        "    def sort(self):\n",
        "        idx = 0\n",
        "        \n",
        "        for i in range(0, len(self.arr_k)):\n",
        "            if self.arr_k[i] != 0:\n",
        "                for j in range(self.arr_k[i]):\n",
        "                    self.a[idx] = (i - self.slice1)\n",
        "                    idx += 1\n",
        "\n",
        "        return self.a\n",
        "\n",
        "a = [0, 3, -3, 5, 5, 2]\n",
        "test = KeyIndex(a)\n",
        "print(test.search(3))\n",
        "print(test.sort())"
      ]
    },
    {
      "cell_type": "code",
      "execution_count": 4,
      "metadata": {
        "colab": {
          "base_uri": "https://localhost:8080/"
        },
        "id": "rH8oxFBfnV1m",
        "outputId": "e589b5be-a2f5-42ed-efdb-279110a276bf"
      },
      "outputs": [
        {
          "name": "stdout",
          "output_type": "stream",
          "text": [
            "[None, None, None, None, 'ST1E89B8A32', 'ST1E89B8A32', None, None, None]\n"
          ]
        }
      ],
      "source": [
        "list1 = [\"ST1E89B8A32\", \"ST1E89B8A32\"]\n",
        "hash1 = [None] * 9\n",
        "\n",
        "def hash(value):\n",
        "    if hash1[value] == None:\n",
        "        hash1[value] = i\n",
        "    else:\n",
        "        hash((value + 1)%len(hash1))\n",
        "\n",
        "for i in list1:\n",
        "    sum = 0\n",
        "    count = 0\n",
        "    for j in i:\n",
        "        if j.isdigit() == True:\n",
        "            sum += int(j)\n",
        "            \n",
        "        elif j.isalpha() == True:\n",
        "             if j != 'A' and j != 'E' and j != 'I' and j != 'O' and j != 'U':\n",
        "                count += 1\n",
        "    \n",
        "    val = (count*24+sum)%9\n",
        "    hash(val)\n",
        "    \n",
        "\n",
        "print(hash1)"
      ]
    },
    {
      "cell_type": "code",
      "execution_count": 1,
      "metadata": {},
      "outputs": [
        {
          "name": "stdout",
          "output_type": "stream",
          "text": [
            "1\n"
          ]
        }
      ],
      "source": [
        "def sum(a, b):\n",
        "    res = a-b\n",
        "    print(res)\n",
        "\n",
        "sum(5, 4)"
      ]
    },
    {
      "cell_type": "code",
      "execution_count": 1,
      "metadata": {
        "colab": {
          "base_uri": "https://localhost:8080/"
        },
        "id": "HRCG3RTK7iVc",
        "outputId": "00e4310b-b09e-4749-b437-12aa4ae80580"
      },
      "outputs": [
        {
          "name": "stdout",
          "output_type": "stream",
          "text": [
            "B32D932A9E1\n"
          ]
        }
      ],
      "source": [
        "# Define a list to act as the hash table\n",
        "hash_table = [None] * 9\n",
        "\n",
        "# Define the hash function\n",
        "def hash_func(string):\n",
        "  # Define a set of consonants\n",
        "  consonants = set(\"BCDFGHJKLMNPQRSTVWXYZ\")\n",
        "\n",
        "  # Count the number of consonants in the string\n",
        "  consonant_count = sum(1 for char in string if char in consonants)\n",
        "\n",
        "  # Sum the digits in the string\n",
        "  digit_sum = sum(int(char) for char in string if char.isdigit())\n",
        "\n",
        "  # Return the hash value\n",
        "  return (consonant_count * 24 + digit_sum) % 9\n",
        "\n",
        "# Define a function to insert a string into the hash table\n",
        "def insert(string):\n",
        "  # Compute the hash value for the string\n",
        "  hash_value = hash_func(string)\n",
        "\n",
        "  # If the hash value is already occupied, use linear probing to find the next available slot\n",
        "  while hash_table[hash_value] is not None:\n",
        "    hash_value = (hash_value + 1) % 9\n",
        "\n",
        "  # Insert the string into the hash table\n",
        "  hash_table[hash_value] = string\n",
        "\n",
        "# Define a function to retrieve a string from the hash table\n",
        "def retrieve(string):\n",
        "  # Compute the hash value for the string\n",
        "  hash_value = hash_func(string)\n",
        "\n",
        "  # Use linear probing to find the string in the hash table\n",
        "  while hash_table[hash_value] != string:\n",
        "    # If the value at the current hash value is None, the string is not in the hash table\n",
        "    if hash_table[hash_value] is None:\n",
        "      return None\n",
        "\n",
        "    # Move to the next value in the hash table\n",
        "    hash_value = (hash_value + 1) % 9\n",
        "\n",
        "  # Return the string if it is found in the hash table\n",
        "  return hash_table[hash_value]\n",
        "\n",
        "# Define an array of strings to insert into the hash table\n",
        "strings = [\"ST1E89B8A32\", \"B32D932A9E1\", \"A9E2932D982\", \"Z982932D982\"]\n",
        "\n",
        "# Insert each string into the hash table\n",
        "for string in strings:\n",
        "  insert(string)\n",
        "\n",
        "# Retrieve a string from the hash table and print it\n",
        "string = retrieve(\"B32D932A9E1\")\n",
        "print(string)  # Expected output: \"B32D9\n"
      ]
    }
  ],
  "metadata": {
    "colab": {
      "provenance": []
    },
    "kernelspec": {
      "display_name": "Python 3.8.4 32-bit",
      "language": "python",
      "name": "python3"
    },
    "language_info": {
      "codemirror_mode": {
        "name": "ipython",
        "version": 3
      },
      "file_extension": ".py",
      "mimetype": "text/x-python",
      "name": "python",
      "nbconvert_exporter": "python",
      "pygments_lexer": "ipython3",
      "version": "3.8.4 (tags/v3.8.4:dfa645a, Jul 13 2020, 16:30:28) [MSC v.1926 32 bit (Intel)]"
    },
    "vscode": {
      "interpreter": {
        "hash": "45037c9fa964e33746a67959e611b1255904e81b18931a74a47f598c93f55abd"
      }
    }
  },
  "nbformat": 4,
  "nbformat_minor": 0
}
