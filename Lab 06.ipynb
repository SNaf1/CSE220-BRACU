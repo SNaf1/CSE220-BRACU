{
  "cells": [
    {
      "cell_type": "code",
      "execution_count": 17,
      "metadata": {
        "colab": {
          "base_uri": "https://localhost:8080/"
        },
        "id": "Zv_CYrorUWqZ",
        "outputId": "54eab9d9-b8fc-42ea-e386-da9206673921"
      },
      "outputs": [
        {
          "name": "stdout",
          "output_type": "stream",
          "text": [
            "120\n"
          ]
        }
      ],
      "source": [
        "#1a\n",
        "def fact(n):\n",
        "    if n == 0 or n == 1:\n",
        "        fact1[n] = 1\n",
        "\n",
        "    else:\n",
        "        if fact1[n] == None:\n",
        "            fact1[n] = n * fact(n-1)\n",
        "            \n",
        "    return fact1[n]\n",
        "\n",
        "n = int(input(\"Enter number: \"))\n",
        "fact1 = [None] * (n+1)\n",
        "print(fact(n))"
      ]
    },
    {
      "cell_type": "code",
      "execution_count": 19,
      "metadata": {
        "colab": {
          "base_uri": "https://localhost:8080/"
        },
        "id": "LV801dO_aVS8",
        "outputId": "a41d1008-faf0-4f51-8d14-b3ef9d6a0339"
      },
      "outputs": [
        {
          "name": "stdout",
          "output_type": "stream",
          "text": [
            "26863810024485359386146727202142923967616609318986952340123175997617981700247881689338369654483356564191827856161443356312976673642210350324634850410377680367334151172899169723197082763985615764450078474174626\n"
          ]
        }
      ],
      "source": [
        "#1b\n",
        "def fib(n):\n",
        "    if n == 0 or n == 1:\n",
        "        fibo[n] = n\n",
        "        \n",
        "    else:\n",
        "        if fibo[n] == None:\n",
        "            fibo[n] = (fib(n-2) + fib(n-1))\n",
        "        \n",
        "    return fibo[n]\n",
        "\n",
        "n = int(input(\"Enter number: \"))\n",
        "fibo = [None] * (n+1)\n",
        "print(fib(n))"
      ]
    },
    {
      "cell_type": "code",
      "execution_count": 21,
      "metadata": {
        "colab": {
          "base_uri": "https://localhost:8080/"
        },
        "id": "lMzAaKG1Xz9M",
        "outputId": "8f914882-80b5-471a-ba52-9967ad4db296"
      },
      "outputs": [
        {
          "name": "stdout",
          "output_type": "stream",
          "text": [
            "1\n",
            "2\n",
            "3\n",
            "4\n"
          ]
        }
      ],
      "source": [
        "#1c\n",
        "def printarray(arr, i = 0):\n",
        "    if i == (len(arr)):\n",
        "        return 0\n",
        "    else:\n",
        "        print(arr[i])\n",
        "        printarray(arr, i+1)\n",
        "\n",
        "printarray([1,2,3,4])"
      ]
    },
    {
      "cell_type": "code",
      "execution_count": null,
      "metadata": {
        "colab": {
          "base_uri": "https://localhost:8080/"
        },
        "id": "E0lPQz_5hECR",
        "outputId": "674bdeb3-05f5-4f59-9b09-6caa35a64e57"
      },
      "outputs": [
        {
          "name": "stdout",
          "output_type": "stream",
          "text": [
            "9\n"
          ]
        }
      ],
      "source": [
        "#1d\n",
        "def power(base, n):\n",
        "    if n == 1:\n",
        "        return base\n",
        "    \n",
        "    else:\n",
        "        return base * power(base, n-1)\n",
        "\n",
        "print(power(3, 2))"
      ]
    },
    {
      "cell_type": "code",
      "execution_count": 15,
      "metadata": {
        "colab": {
          "base_uri": "https://localhost:8080/"
        },
        "id": "6WrI87Fvnzdq",
        "outputId": "2e18706b-407a-4cba-fe61-ea1b5e87915f"
      },
      "outputs": [
        {
          "name": "stdout",
          "output_type": "stream",
          "text": [
            "1111011"
          ]
        }
      ],
      "source": [
        "# 2a\n",
        "def convertbin(n):\n",
        "    if n/2 == 0:\n",
        "        return 0\n",
        "\n",
        "    else:\n",
        "        convertbin(int(n/2))\n",
        "        print(n%2, end=\"\")\n",
        "\n",
        "convertbin(123)"
      ]
    },
    {
      "cell_type": "code",
      "execution_count": 24,
      "metadata": {
        "colab": {
          "base_uri": "https://localhost:8080/"
        },
        "id": "Lf2N9qBEy30I",
        "outputId": "ce975a33-f11c-486e-cd56-235b51c32298"
      },
      "outputs": [
        {
          "name": "stdout",
          "output_type": "stream",
          "text": [
            "(2)b\n",
            "6\n",
            "(2)c\n",
            "3\n",
            "2\n",
            "1\n"
          ]
        }
      ],
      "source": [
        "#2b and 2c\n",
        "class Node:\n",
        "    def __init__(self, e, n):\n",
        "        self.element = e\n",
        "        self.next = n\n",
        "\n",
        "class LinkedList:\n",
        "  \n",
        "    def __init__(self, a):\n",
        "        if type(a) == list:\n",
        "            self.head = None\n",
        "            self.tail = None\n",
        "            for i in range(len(a)):\n",
        "                n = Node(a[i], None)\n",
        "                if self.head == None:\n",
        "                    self.head = n\n",
        "                    self.tail = n\n",
        "                else:\n",
        "                    self.tail.next = n\n",
        "                    self.tail = n\n",
        "        \n",
        "        else:\n",
        "            self.head = a\n",
        "\n",
        "    def addlinkedlist(self, n):\n",
        "        if n == None:\n",
        "            return 0\n",
        "\n",
        "        else:\n",
        "            return n.element + self.addlinkedlist(n.next)\n",
        "\n",
        "    #2c        \n",
        "    def reverse(self, n):\n",
        "        if n != None:\n",
        "            self.reverse(n.next)\n",
        "            print(n.element)\n",
        "            \n",
        "\n",
        "list1 = [1, 2, 3]\n",
        "a = LinkedList(list1)\n",
        "print(\"(2)b\")\n",
        "print(a.addlinkedlist(a.head))\n",
        "print(\"(2)c\")\n",
        "a.reverse(a.head)\n"
      ]
    },
    {
      "cell_type": "code",
      "execution_count": 26,
      "metadata": {
        "colab": {
          "base_uri": "https://localhost:8080/"
        },
        "id": "e8WFy_2wiewQ",
        "outputId": "c0474e29-30e3-4963-f757-92658ec9c402"
      },
      "outputs": [
        {
          "name": "stdout",
          "output_type": "stream",
          "text": [
            "18\n"
          ]
        }
      ],
      "source": [
        "#3\n",
        "def house(height):\n",
        "    if height == 0:\n",
        "        print(\"No house built\")\n",
        "        return 0\n",
        "     \n",
        "    elif height == 1:\n",
        "        return 8\n",
        "\n",
        "    else:\n",
        "        return 5 + house(height-1)\n",
        "\n",
        "num = int(input(\"Enter num: \"))\n",
        "print(house(num))"
      ]
    },
    {
      "cell_type": "code",
      "execution_count": 33,
      "metadata": {
        "colab": {
          "base_uri": "https://localhost:8080/"
        },
        "id": "E0vrTK7L82cm",
        "outputId": "915f12ec-f9f3-467d-df5b-fa2c2841adc2"
      },
      "outputs": [
        {
          "name": "stdout",
          "output_type": "stream",
          "text": [
            "Enter rows: 4\n",
            "1 \n",
            "1 2 \n",
            "1 2 3 \n",
            "1 2 3 4 \n"
          ]
        }
      ],
      "source": [
        "#4a\n",
        "def num_pattern(n, num):\n",
        "    if (n == 0):\n",
        "        return 0\n",
        "\n",
        "    print_num(num - n + 1, 1)\n",
        "    print()\n",
        "    num_pattern(n - 1, num)\n",
        "\n",
        "def print_num(num1,i):\n",
        "    if (num1 == 0):\n",
        "        return 0\n",
        "\n",
        "    print(i , end = \" \")\n",
        "    print_num(num1 - 1, i+1)\n",
        "\n",
        "\n",
        "n = int(input(\"Enter rows: \"))\n",
        "num_pattern(n, n)"
      ]
    },
    {
      "cell_type": "code",
      "execution_count": 34,
      "metadata": {
        "colab": {
          "base_uri": "https://localhost:8080/"
        },
        "id": "Y3_syA89uzwG",
        "outputId": "a9a4a2fb-f5d2-42aa-f13b-1ec05cf1e76d"
      },
      "outputs": [
        {
          "name": "stdout",
          "output_type": "stream",
          "text": [
            "Enter rows: 4\n",
            "      1 \n",
            "    1 2 \n",
            "  1 2 3 \n",
            "1 2 3 4 \n"
          ]
        }
      ],
      "source": [
        "#4b\n",
        "def num_pattern(n, num):\n",
        "    if (n == 0):\n",
        "        return 0\n",
        "    print_space(n - 1)\n",
        "    print_num(num - n + 1, 1)\n",
        "    print()\n",
        "    num_pattern(n - 1, num)\n",
        "    \n",
        "def print_space(space):\n",
        "    if (space == 0):\n",
        "        return 0\n",
        "\n",
        "    print(\" \", end = \" \")\n",
        "    print_space(space - 1)\n",
        " \n",
        "def print_num(num, i):\n",
        "    if (num == 0):\n",
        "        return 0\n",
        "\n",
        "    print(i , end = \" \")\n",
        "    print_num(num - 1, i+1)\n",
        "\n",
        "\n",
        "\n",
        "n = int(input(\"Enter rows: \"))\n",
        "num_pattern(n, n)"
      ]
    },
    {
      "cell_type": "code",
      "execution_count": 4,
      "metadata": {
        "colab": {
          "base_uri": "https://localhost:8080/"
        },
        "id": "geFVAEYA3Ouz",
        "outputId": "a2ab8aa2-074e-4908-eb07-eafc553f9e83"
      },
      "outputs": [
        {
          "name": "stdout",
          "output_type": "stream",
          "text": [
            "1. Investment: 25000; Profit: 0.0\n",
            "2. Investment: 90500; Profit: 2947.5\n",
            "3. Investment: 100000; Profit: 3375.0\n",
            "4. Investment: 250000; Profit: 15375.0\n",
            "5. Investment: 350000; Profit: 23375.0\n"
          ]
        }
      ],
      "source": [
        "#5\n",
        "class FinalQ:\n",
        "    def print(self,array,idx):\n",
        "            if(idx<len(array)):\n",
        "                profit = self.calcProfit(array[idx])\n",
        "                print(str(idx+1) + \". Investment: \" + str(array[idx]) + \"; Profit: \" + str(profit))\n",
        "                self.print(array, idx+1)\n",
        "        \n",
        "    def calcProfit(self,investment):\n",
        "        if investment <= 25000:\n",
        "            return 0.0\n",
        "\n",
        "        elif 25000 < investment < 100000:\n",
        "            num = investment - 25000\n",
        "            num = num / 100\n",
        "            num = num + num + num + num + (num/2)\n",
        "            return num\n",
        "\n",
        "        else:\n",
        "            num = investment - 100000\n",
        "            num = num / 100\n",
        "            num = num + num + num + num + num + num + num + num\n",
        "            return num + 3375.0\n",
        "    \n",
        "array = [25000,90500,100000,250000,350000]\n",
        "f = FinalQ()\n",
        "f.print(array, 0)"
      ]
    },
    {
      "cell_type": "code",
      "execution_count": 14,
      "metadata": {},
      "outputs": [
        {
          "name": "stdout",
          "output_type": "stream",
          "text": [
            "1. Investment: 25000; Profit: 0.0\n",
            "2. Investment: 100000; Profit: 3375.0\n",
            "3. Investment: 250000; Profit: 15375.0\n",
            "4. Investment: 350000; Profit: 23375.0\n"
          ]
        }
      ],
      "source": [
        "#calc with recursion\n",
        "#5\n",
        "class FinalQ:\n",
        "    def print(self,array,idx):\n",
        "            if(idx<len(array)):\n",
        "                profit = self.calcProfit(array[idx])\n",
        "                print(str(idx+1) + \". Investment: \" + str(array[idx]) + \"; Profit: \" + str(profit))\n",
        "                self.print(array, idx+1)\n",
        "        \n",
        "    def calcProfit(self,investment):\n",
        "        if investment <= 25000:\n",
        "            return 0.0\n",
        "\n",
        "        elif 25000 < investment <= 100000:\n",
        "            return 45 + self.calcProfit(investment-1000)\n",
        "        elif investment > 100000:\n",
        "            return 80 + self.calcProfit(investment-1000)\n",
        "        \n",
        "array = [25000,100000,250000,350000]\n",
        "f = FinalQ()\n",
        "f.print(array, 0)"
      ]
    }
  ],
  "metadata": {
    "colab": {
      "provenance": []
    },
    "kernelspec": {
      "display_name": "Python 3.8.4 32-bit",
      "language": "python",
      "name": "python3"
    },
    "language_info": {
      "codemirror_mode": {
        "name": "ipython",
        "version": 3
      },
      "file_extension": ".py",
      "mimetype": "text/x-python",
      "name": "python",
      "nbconvert_exporter": "python",
      "pygments_lexer": "ipython3",
      "version": "3.8.4 (tags/v3.8.4:dfa645a, Jul 13 2020, 16:30:28) [MSC v.1926 32 bit (Intel)]"
    },
    "vscode": {
      "interpreter": {
        "hash": "45037c9fa964e33746a67959e611b1255904e81b18931a74a47f598c93f55abd"
      }
    }
  },
  "nbformat": 4,
  "nbformat_minor": 0
}
