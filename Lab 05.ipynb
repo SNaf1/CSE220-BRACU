{
  "cells": [
    {
      "cell_type": "code",
      "execution_count": 1,
      "metadata": {
        "colab": {
          "base_uri": "https://localhost:8080/"
        },
        "id": "hKI94UMXMJSq",
        "outputId": "095c715c-7956-443b-a502-7ccebf2c716f"
      },
      "outputs": [
        {
          "name": "stdout",
          "output_type": "stream",
          "text": [
            "This expression is correct.\n"
          ]
        }
      ],
      "source": [
        "class ArrayStack:\n",
        "\n",
        "  def __init__ (self):\n",
        "    self.stack = [None]*1000\n",
        "    self.top = -1 \n",
        "    # index of the topomost element in stack\n",
        "\n",
        "\n",
        "  def push(self,elem):\n",
        "    # push an element onto stack\n",
        "    self.stack[self.top+1] = elem\n",
        "    self.top += 1\n",
        "\n",
        "  def pop(self):\n",
        "    # //return the element at top\n",
        "      # //remove the element at top\n",
        "    deleted = self.stack[self.top]\n",
        "    self.stack[self.top] = None\n",
        "    self.top -= 1\n",
        "    return deleted\n",
        "    \n",
        "\n",
        "  def peek(self):\n",
        "      # //return the element at top\n",
        "      return self.stack[self.top]\n",
        "  \n",
        "  def isEmpty(self):\n",
        "      # returns whether the stack is empty or not\n",
        "      if self.top == -1:\n",
        "          return True\n",
        "      else:\n",
        "          return False\n",
        "       \n",
        "\n",
        "stack_1 = ArrayStack()\n",
        "stack_2 = ArrayStack()\n",
        "\n",
        "\n",
        "parenthesis = [\"()\", \"[]\", \"{}\"]\n",
        "test = \"1+2*(3/4)\"\n",
        "flag = True\n",
        "count = 0\n",
        "\n",
        "for i in range(len(test)):\n",
        "    count += 1\n",
        "    if test[i] == \"(\" or test[i]==\"[\" or test[i]==\"{\":\n",
        "        stack_1.push(test[i])\n",
        "        stack_2.push(i)\n",
        "\n",
        "    elif test[i] ==  \")\" or test[i]==\"]\" or test[i]==\"}\":\n",
        "        if stack_1.isEmpty() == True:\n",
        "            flag = False\n",
        "            break\n",
        "        else:\n",
        "            res = stack_1.pop()\n",
        "            \n",
        "            temp = res + test[i]\n",
        "            if temp not in parenthesis:\n",
        "                flag = False\n",
        "                break\n",
        "            res2 = stack_2.pop()\n",
        "\n",
        "\n",
        "if stack_1.isEmpty() == True and flag == True:\n",
        "    print(\"This expression is correct.\")\n",
        "else:\n",
        "    print(\"This expression is NOT correct.\")\n",
        "    if stack_1.isEmpty() == True:\n",
        "        print(f\"Error at character # {count}. '{test[i]}'- not opened.\")\n",
        "    else:\n",
        "        print(f\"Error at character # {stack_2.pop()+1}. '{res}'- not closed.\")\n",
        "\n"
      ]
    },
    {
      "cell_type": "code",
      "execution_count": 2,
      "metadata": {
        "colab": {
          "base_uri": "https://localhost:8080/"
        },
        "id": "8NImypjMVODY",
        "outputId": "e33b88bc-9af9-4d62-afd2-763db9938de2"
      },
      "outputs": [
        {
          "name": "stdout",
          "output_type": "stream",
          "text": [
            "This expression is NOT correct.\n",
            "Error at character # 10. '{'- not closed.\n"
          ]
        }
      ],
      "source": [
        "class Node:\n",
        "    def __init__(self, e, n):\n",
        "        self.elem = e\n",
        "        self.next = n\n",
        "\n",
        "class linkedliststack:\n",
        "    def __init__(self):\n",
        "        self.head = None\n",
        "\n",
        "    def push(self, elem):\n",
        "        n = Node(elem, None)\n",
        "        n.next = self.head\n",
        "        self.head = n\n",
        "\n",
        "    def peek(self):\n",
        "        return self.head.elem\n",
        "\n",
        "    def pop(self):\n",
        "        deleted = self.head.elem\n",
        "        self.head = self.head.next\n",
        "        return deleted\n",
        "    \n",
        "    def isEmpty(self):\n",
        "    # returns whether the stack is empty or not\n",
        "        if self.head == None:\n",
        "            return True\n",
        "        else:\n",
        "            return False\n",
        "\n",
        "stack_1 = linkedliststack()\n",
        "stack_2 = linkedliststack()\n",
        "\n",
        "parenthesis = [\"()\", \"[]\", \"{}\"]\n",
        "test = \"1+2*[3*3+{4–5(6(7/8/9)+10)–11+(12*8)]+14\"\n",
        "flag = True\n",
        "count = 0\n",
        "\n",
        "for i in range(len(test)):\n",
        "    count += 1\n",
        "    if test[i] == \"(\" or test[i]==\"[\" or test[i]==\"{\":\n",
        "        stack_1.push(test[i])\n",
        "        stack_2.push(i)\n",
        "\n",
        "    elif test[i] ==  \")\" or test[i]==\"]\" or test[i]==\"}\":\n",
        "        if stack_1.isEmpty() == True:\n",
        "            flag = False\n",
        "            break\n",
        "        else:\n",
        "            res = stack_1.pop()\n",
        "            \n",
        "            temp = res + test[i]\n",
        "            if temp not in parenthesis:\n",
        "                flag = False\n",
        "                break\n",
        "            res2 = stack_2.pop()\n",
        "\n",
        "if stack_1.isEmpty() == True and flag == True:\n",
        "    print(\"This expression is correct.\")\n",
        "else:\n",
        "    print(\"This expression is NOT correct.\")\n",
        "    if stack_1.isEmpty() == True:\n",
        "        print(f\"Error at character # {count}. '{test[i]}'- not opened.\")\n",
        "    else:\n",
        "        print(f\"Error at character # {stack_2.pop()+1}. '{res}'- not closed.\")"
      ]
    }
  ],
  "metadata": {
    "colab": {
      "collapsed_sections": [],
      "provenance": []
    },
    "kernelspec": {
      "display_name": "Python 3.8.4 32-bit",
      "language": "python",
      "name": "python3"
    },
    "language_info": {
      "codemirror_mode": {
        "name": "ipython",
        "version": 3
      },
      "file_extension": ".py",
      "mimetype": "text/x-python",
      "name": "python",
      "nbconvert_exporter": "python",
      "pygments_lexer": "ipython3",
      "version": "3.8.4"
    },
    "vscode": {
      "interpreter": {
        "hash": "45037c9fa964e33746a67959e611b1255904e81b18931a74a47f598c93f55abd"
      }
    }
  },
  "nbformat": 4,
  "nbformat_minor": 0
}
